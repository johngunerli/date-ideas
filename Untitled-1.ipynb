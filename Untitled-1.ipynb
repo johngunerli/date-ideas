{
 "cells": [
  {
   "cell_type": "code",
   "execution_count": 5,
   "metadata": {},
   "outputs": [],
   "source": [
    "# https://docs.google.com/spreadsheets/d/1wCT96SP92FHnOkvLzEBELc6CYzYce_8YsFBmAKhxpDU/edit?usp=sharing\n",
    "import pandas as pd \n",
    "import urllib"
   ]
  },
  {
   "cell_type": "code",
   "execution_count": 9,
   "metadata": {},
   "outputs": [
    {
     "data": {
      "text/plain": [
       "('file.csv', <http.client.HTTPMessage at 0x10854c3d0>)"
      ]
     },
     "execution_count": 9,
     "metadata": {},
     "output_type": "execute_result"
    }
   ],
   "source": [
    "url = 'https://docs.google.com/spreadsheets/d/e/2PACX-1vQsmMfuH1mNMYfZen_KtNSm99oxvMIxBX2dP-A3X9nC2z-UMZeGiGoGJC3kc6a4e5JM3gsvF8av_C-R/pub?gid=1518743404&single=true&output=csv'\n",
    "urllib.request.urlretrieve(url,\"file.csv\")\n"
   ]
  },
  {
   "cell_type": "code",
   "execution_count": 11,
   "metadata": {},
   "outputs": [
    {
     "data": {
      "text/html": [
       "<div>\n",
       "<style scoped>\n",
       "    .dataframe tbody tr th:only-of-type {\n",
       "        vertical-align: middle;\n",
       "    }\n",
       "\n",
       "    .dataframe tbody tr th {\n",
       "        vertical-align: top;\n",
       "    }\n",
       "\n",
       "    .dataframe thead th {\n",
       "        text-align: right;\n",
       "    }\n",
       "</style>\n",
       "<table border=\"1\" class=\"dataframe\">\n",
       "  <thead>\n",
       "    <tr style=\"text-align: right;\">\n",
       "      <th></th>\n",
       "      <th>Name</th>\n",
       "      <th>Location Input</th>\n",
       "      <th>Type</th>\n",
       "      <th>Distance from MT</th>\n",
       "      <th>Distance from DT</th>\n",
       "      <th>walking Directions from MT</th>\n",
       "      <th>walking Directions from DT</th>\n",
       "      <th>transit directions from MT</th>\n",
       "      <th>transit directions from DT</th>\n",
       "      <th>Been there before?</th>\n",
       "      <th>Midtown Location</th>\n",
       "      <th>Atlanta Location</th>\n",
       "    </tr>\n",
       "  </thead>\n",
       "  <tbody>\n",
       "    <tr>\n",
       "      <th>0</th>\n",
       "      <td>Piedmont Park</td>\n",
       "      <td>#NAME?</td>\n",
       "      <td>Park</td>\n",
       "      <td>#NAME?</td>\n",
       "      <td>#NAME?</td>\n",
       "      <td>#NAME?</td>\n",
       "      <td>#NAME?</td>\n",
       "      <td>#NAME?</td>\n",
       "      <td>#NAME?</td>\n",
       "      <td>Yes</td>\n",
       "      <td>North Ave NW, Atlanta, GA 30332</td>\n",
       "      <td>55 Gilmer St SE, Atlanta, GA 30303</td>\n",
       "    </tr>\n",
       "    <tr>\n",
       "      <th>1</th>\n",
       "      <td>Centennial Olympic Park\\n\\n</td>\n",
       "      <td>#NAME?</td>\n",
       "      <td>Park</td>\n",
       "      <td>#NAME?</td>\n",
       "      <td>#NAME?</td>\n",
       "      <td>#NAME?</td>\n",
       "      <td>#NAME?</td>\n",
       "      <td>#NAME?</td>\n",
       "      <td>#NAME?</td>\n",
       "      <td>Yes</td>\n",
       "      <td>NaN</td>\n",
       "      <td>NaN</td>\n",
       "    </tr>\n",
       "    <tr>\n",
       "      <th>2</th>\n",
       "      <td>Michael C Carlos Museum</td>\n",
       "      <td>#NAME?</td>\n",
       "      <td>Museum</td>\n",
       "      <td>#NAME?</td>\n",
       "      <td>#NAME?</td>\n",
       "      <td>#NAME?</td>\n",
       "      <td>#NAME?</td>\n",
       "      <td>#NAME?</td>\n",
       "      <td>#NAME?</td>\n",
       "      <td>NaN</td>\n",
       "      <td>NaN</td>\n",
       "      <td>NaN</td>\n",
       "    </tr>\n",
       "    <tr>\n",
       "      <th>3</th>\n",
       "      <td>Center for Puppetry Arts</td>\n",
       "      <td>#NAME?</td>\n",
       "      <td>Museum</td>\n",
       "      <td>#NAME?</td>\n",
       "      <td>#NAME?</td>\n",
       "      <td>#NAME?</td>\n",
       "      <td>#NAME?</td>\n",
       "      <td>#NAME?</td>\n",
       "      <td>#NAME?</td>\n",
       "      <td>NaN</td>\n",
       "      <td>NaN</td>\n",
       "      <td>NaN</td>\n",
       "    </tr>\n",
       "    <tr>\n",
       "      <th>4</th>\n",
       "      <td>World of Coca Cola</td>\n",
       "      <td>#NAME?</td>\n",
       "      <td>Museum</td>\n",
       "      <td>#NAME?</td>\n",
       "      <td>#NAME?</td>\n",
       "      <td>#NAME?</td>\n",
       "      <td>#NAME?</td>\n",
       "      <td>#NAME?</td>\n",
       "      <td>#NAME?</td>\n",
       "      <td>Yes</td>\n",
       "      <td>NaN</td>\n",
       "      <td>NaN</td>\n",
       "    </tr>\n",
       "  </tbody>\n",
       "</table>\n",
       "</div>"
      ],
      "text/plain": [
       "                          Name Location Input    Type Distance from MT  \\\n",
       "0                Piedmont Park         #NAME?    Park           #NAME?   \n",
       "1  Centennial Olympic Park\\n\\n         #NAME?    Park           #NAME?   \n",
       "2      Michael C Carlos Museum         #NAME?  Museum           #NAME?   \n",
       "3     Center for Puppetry Arts         #NAME?  Museum           #NAME?   \n",
       "4          World of Coca Cola          #NAME?  Museum           #NAME?   \n",
       "\n",
       "  Distance from DT walking Directions from MT walking Directions from DT  \\\n",
       "0           #NAME?                     #NAME?                     #NAME?   \n",
       "1           #NAME?                     #NAME?                     #NAME?   \n",
       "2           #NAME?                     #NAME?                     #NAME?   \n",
       "3           #NAME?                     #NAME?                     #NAME?   \n",
       "4           #NAME?                     #NAME?                     #NAME?   \n",
       "\n",
       "  transit directions from MT transit directions from DT Been there before?  \\\n",
       "0                     #NAME?                     #NAME?                Yes   \n",
       "1                     #NAME?                     #NAME?                Yes   \n",
       "2                     #NAME?                     #NAME?                NaN   \n",
       "3                     #NAME?                     #NAME?                NaN   \n",
       "4                     #NAME?                     #NAME?                Yes   \n",
       "\n",
       "                  Midtown Location                    Atlanta Location  \n",
       "0  North Ave NW, Atlanta, GA 30332  55 Gilmer St SE, Atlanta, GA 30303  \n",
       "1                              NaN                                 NaN  \n",
       "2                              NaN                                 NaN  \n",
       "3                              NaN                                 NaN  \n",
       "4                              NaN                                 NaN  "
      ]
     },
     "execution_count": 11,
     "metadata": {},
     "output_type": "execute_result"
    }
   ],
   "source": [
    "df = pd.read_csv('file.csv')\n",
    "df.head(5)"
   ]
  }
 ],
 "metadata": {
  "kernelspec": {
   "display_name": "base",
   "language": "python",
   "name": "python3"
  },
  "language_info": {
   "codemirror_mode": {
    "name": "ipython",
    "version": 3
   },
   "file_extension": ".py",
   "mimetype": "text/x-python",
   "name": "python",
   "nbconvert_exporter": "python",
   "pygments_lexer": "ipython3",
   "version": "3.9.12"
  },
  "orig_nbformat": 4,
  "vscode": {
   "interpreter": {
    "hash": "38cca0c38332a56087b24af0bc80247f4fced29cb4f7f437d91dc159adec9c4e"
   }
  }
 },
 "nbformat": 4,
 "nbformat_minor": 2
}
